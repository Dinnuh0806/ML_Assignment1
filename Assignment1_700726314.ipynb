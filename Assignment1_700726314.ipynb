{
 "cells": [
  {
   "cell_type": "code",
   "execution_count": 1,
   "id": "a340ebe5",
   "metadata": {},
   "outputs": [
    {
     "name": "stdout",
     "output_type": "stream",
     "text": [
      "min : 19\n",
      "max : 26\n",
      "sorted ages are : [19, 19, 20, 22, 24, 24, 24, 25, 25, 26]\n",
      "after adding min and max : [19, 19, 20, 22, 24, 24, 24, 25, 25, 26, 19, 26]\n",
      "median is : 24\n",
      "average age : 22.8\n",
      "range : 7\n"
     ]
    }
   ],
   "source": [
    "#Question 1:\n",
    "\n",
    "import math\n",
    "ages=[19,22,19,24,20,25,26,24,25,24]  #assigning ages to the list named ages \n",
    "ages.sort()   #sorting the ages using the predefined method called sort()\n",
    "m=min(ages)\n",
    "n=max(ages)\n",
    "print('min :',m)\n",
    "print('max :',n)\n",
    "print(\"sorted ages are :\",ages)\n",
    "ages.append(m)\n",
    "ages.append(n)\n",
    "print(\"after adding min and max :\",ages)\n",
    "\n",
    "ages=[19,22,19,24,20,25,26,24,25,24]\n",
    "ages.sort()\n",
    "i=len(ages)\n",
    "if(i%2==0) :\n",
    "    f=int(i/2)\n",
    "    median = int((ages[f]+ages[f-1])/2)\n",
    "else :\n",
    "    f=int(i/2)\n",
    "    median = int(ages[i])\n",
    "print(\"median is :\",median)\n",
    "\n",
    "ages=[19,22,19,24,20,25,26,24,25,24]\n",
    "import statistics\n",
    "t=len(ages)\n",
    "mean = sum (ages) / t\n",
    "print(\"average age :\",mean)\n",
    "print(\"range :\",(max(ages)-min(ages)))"
   ]
  },
  {
   "cell_type": "code",
   "execution_count": 3,
   "id": "56edfc20",
   "metadata": {},
   "outputs": [
    {
     "name": "stdout",
     "output_type": "stream",
     "text": [
      "<class 'dict'>\n",
      "{'Name': 'sponser', 'Color': 'gold', 'Breed': 'Husky', 'Legs': 4, 'age': 6}\n",
      "{'first_name': 'Manideep', 'last_name': 'Prathipati', 'gender': 'Male', 'age': 25, 'marital_status': 'UnMarried', 'skills': ['playing games', 'watching movies', 'reading books'], 'country': 'US', 'city': 'overalnd park', 'address': 'sandstone creek Apartments'}\n",
      "9\n",
      "<class 'list'>\n",
      "['playing games', 'watching movies', 'reading books', 'racing']\n",
      "['first_name', 'last_name', 'gender', 'age', 'marital_status', 'skills', 'country', 'city', 'address']\n",
      "['Manideep', 'Prathipati', 'Male', 25, 'UnMarried', ['playing games', 'watching movies', 'reading books', 'racing'], 'US', 'overalnd park', 'sandstone creek Apartments']\n"
     ]
    }
   ],
   "source": [
    "#Question2\n",
    "# a) Create an empty dictionary called dog\n",
    "dog = {}\n",
    "print(type(dog))\n",
    "\n",
    "# b) Add name, color, breed, legs, age to the dog dictionary\n",
    "dog = { \"Name\" : \"sponser\", \"Color\": \"gold\" , \"Breed\" : \"Husky\", \"Legs\" : 4, \"age\" : 6 } \n",
    "print(dog)\n",
    "\n",
    "# c) Create a student dictionary and add first_name, last_name, gender, age, marital status,\n",
    "#skills, country, city and address as keys for the dictionary\n",
    "Student = {}\n",
    "Student = { \"first_name\": \"Manideep\", \"last_name\": \"Prathipati\", \"gender\":\"Male\", \"age\":25, \"marital_status\": \"UnMarried\", \"skills\":[\"playing games\",\"watching movies\",\"reading books\"], \"country\":\"US\",\"city\":\"overalnd park\",\"address\": \"sandstone creek Apartments\"}\n",
    "print(Student)\n",
    "\n",
    "# d) Get the length of the student dictionary\n",
    "print(len(Student))\n",
    "\n",
    "# e) Get the value of skills and check the data type, it should be a list\n",
    "Student[\"skills\"]\n",
    "print(type(Student[\"skills\"]))\n",
    "\n",
    "# f) Modify the skills values by adding one or two skills\n",
    "Student[\"skills\"].append(\"racing\")\n",
    "print(Student[\"skills\"])\n",
    "\n",
    "# g) Get the dictionary keys as a list\n",
    "print (list(Student.keys()))\n",
    "\n",
    "# h) Get the dictionary values as a list\n",
    "print (list(Student.values()))\n"
   ]
  },
  {
   "cell_type": "code",
   "execution_count": 5,
   "id": "33a4d4a9",
   "metadata": {},
   "outputs": [
    {
     "name": "stdout",
     "output_type": "stream",
     "text": [
      "sisters are :  ('Sindhu', 'Nikhila')\n",
      "<class 'tuple'>\n",
      "brothers are : ('mohan', 'anvesh', 'srinu')\n",
      "<class 'tuple'>\n",
      "siblings are : ('Sindhu', 'Nikhila', 'mohan', 'anvesh', 'srinu')\n",
      "5\n",
      "('Sindhu', 'Nikhila', 'mohan', 'anvesh', 'srinu', 'venu gopala rao', 'padmavathi')\n"
     ]
    }
   ],
   "source": [
    "#Question3\n",
    "\n",
    "# Create a tuple containing names of your sisters and your brothers (imaginary siblings are fine)\n",
    "sis = (\"Sindhu\",\"Nikhila\")\n",
    "print(\"sisters are : \",sis)\n",
    "print(type(sis))\n",
    "bros = (\"mohan\",\"anvesh\", \"srinu\")\n",
    "print(\"brothers are :\", bros)\n",
    "print(type(bros))\n",
    "\n",
    "# Joining brothers and sisters tuples and assign it to siblings\n",
    "siblings = sis + bros\n",
    "print(\"siblings are :\", siblings)\n",
    "\n",
    "# How many siblings do you have?\n",
    "print(len(siblings))\n",
    "\n",
    "#3.4 Modify the siblings tuple and add the name of your father and mother and assign it to family_members\n",
    " \n",
    "family_members = siblings + ((\"venu gopala rao\" , \"padmavathi\"))\n",
    "\n",
    "print(family_members)"
   ]
  },
  {
   "cell_type": "code",
   "execution_count": 6,
   "id": "7675f74f",
   "metadata": {},
   "outputs": [
    {
     "name": "stdout",
     "output_type": "stream",
     "text": [
      "Length of it_companies  7\n",
      "after adding new it_company  {'Oracle', 'Facebook', 'IBM', 'Microsoft', 'Google', 'Twitter', 'Apple', 'Amazon'}\n",
      "after adding multiple it_companies  {'ebay', 'Google', 'Twitter', 'Oracle', 'Amazon', 'Facebook', 'IBM', 'Microsoft', 'Apple', 'tcs'}\n",
      "after removing one values  {'ebay', 'Google', 'Twitter', 'Oracle', 'Amazon', 'Facebook', 'IBM', 'Microsoft', 'Apple'}\n",
      "remove methode raises an error when value does not exists where as discard methode does not raise an error\n",
      "A Union B  {19, 20, 22, 24, 25, 26, 27, 28}\n",
      "A Intersection B  {19, 20, 22, 24, 25, 26}\n",
      "is A is subset of B  True\n",
      "is A and B are disjoint sets  False\n",
      "the symmetric difference between A and B  {27, 28}\n",
      "deleting set A set()\n",
      "deleting set B set()\n",
      "converted age list to set  {19, 22, 24, 25, 26}\n",
      "difference between length of age list and length of age set is  3\n"
     ]
    }
   ],
   "source": [
    "#Question4\n",
    "it_companies= {'Facebook', 'Google', 'Microsoft', 'Apple', 'IBM', 'Oracle', 'Amazon'} # creating a set and assing values\n",
    "A = {19, 22, 24, 20, 25, 26}\n",
    "B = {19, 22, 20, 25, 26, 24, 28, 27}\n",
    "age = [22, 19, 24, 25, 26, 24, 25, 24]\n",
    "print(\"Length of it_companies \",len(it_companies)) #len() return the Length of the set \n",
    "it_companies.add(\"Twitter\")  #add() is used to add new values to the set\n",
    "print(\"after adding new it_company \",it_companies)\n",
    "it_companies.update([\"tcs\", \"ebay\"]) #adding multiple values to the set using update \n",
    "print(\"after adding multiple it_companies \",it_companies)\n",
    "it_companies.remove(\"tcs\") #remove() removes the value from set if the values exists else it throws error \n",
    "print(\"after removing one values \",it_companies)\n",
    "print(\"remove methode raises an error when value does not exists where as discard methode does not raise an error\")\n",
    "a_union_b = A.union(B) #union() operation joins two sets\n",
    "print(\"A Union B \",a_union_b)\n",
    "a_intersect_b = A.intersection(B)  #intersection() returns the common date from two sets \n",
    "print(\"A Intersection B \",a_intersect_b)\n",
    "print(\"is A is subset of B \",A.issubset(B)) #issubset() return boolean value weather b is subset of a or not \n",
    "print(\"is A and B are disjoint sets \",A.isdisjoint(B))   #isdisjoint() return boolean value weather b is disjoint sets or not  \n",
    "print(\"the symmetric difference between A and B \",A.symmetric_difference(B))\n",
    "#clear() used for deleting the set\n",
    "A.clear() \n",
    "B.clear()\n",
    "print(\"deleting set A\", A)\n",
    "print(\"deleting set B\" ,B)\n",
    "age_set=set(age)  #type conversion from list to set\n",
    "print(\"converted age list to set \",age_set)\n",
    "print(\"difference between length of age list and length of age set is \", len(age)-len(age_set))"
   ]
  },
  {
   "cell_type": "code",
   "execution_count": 7,
   "id": "0d98ea8d",
   "metadata": {},
   "outputs": [
    {
     "name": "stdout",
     "output_type": "stream",
     "text": [
      "Enter radius of a circle:30\n",
      "Area of Circle  2826.0\n",
      "Circumference of circle  188.4\n"
     ]
    }
   ],
   "source": [
    "#Question5\n",
    "# The given radius of a circle is 30 meters.\n",
    "# Calculate the area of a circle and assign the value to a variable name of _area_of_circle_\n",
    "radius = int(input(\"Enter radius of a circle:\"))\n",
    "#radius=int((input(\"enter radius\"))) #input() allows dynamic input from the user\n",
    "_area_of_circle_=3.14 *(radius**2) #using area of cirlce formula          \n",
    "_circum_of_circle_=2*3.14*radius                                                                                        \n",
    "print(\"Area of Circle \",_area_of_circle_)                                                               \n",
    "print(\"Circumference of circle \",_circum_of_circle_)\n"
   ]
  },
  {
   "cell_type": "code",
   "execution_count": 8,
   "id": "93c99b11",
   "metadata": {},
   "outputs": [
    {
     "name": "stdout",
     "output_type": "stream",
     "text": [
      "Unique words are {'love', 'teacher', 'am', 'I', 'people', 'and', 'teach', 'to', 'inspire', 'a'}\n"
     ]
    }
   ],
   "source": [
    "#Question6\n",
    "#“I am a teacher and I love to inspire and teach people”\n",
    "#How many unique words have been used in the sentence? Use the split methods and set to get the unique words.\n",
    "\n",
    "Sentence = \"I am a teacher and I love to inspire and teach people\"\n",
    "w = set(Sentence.split(\" \"))\n",
    "print(\"Unique words are\", w)"
   ]
  },
  {
   "cell_type": "code",
   "execution_count": 9,
   "id": "1c78ed8c",
   "metadata": {},
   "outputs": [
    {
     "name": "stdout",
     "output_type": "stream",
     "text": [
      "Name    \tAge   \tCountry      \tCity\n",
      "Manideep\t25     \tIndia      \thyderabad\n"
     ]
    }
   ],
   "source": [
    "\n",
    "#Question7\n",
    "#Use a tab escape sequence to get the following lines.\n",
    "# Name Age Country City\n",
    "# Asabeneh 250 Finland Helsinki\n",
    "\n",
    "print('Name    \\tAge   \\tCountry      \\tCity')\n",
    "print('Manideep\\t25     \\tIndia      \\thyderabad')"
   ]
  },
  {
   "cell_type": "code",
   "execution_count": 10,
   "id": "25b77261",
   "metadata": {},
   "outputs": [
    {
     "name": "stdout",
     "output_type": "stream",
     "text": [
      "The area of a circle with radius 10 is 314 meters square.\n"
     ]
    }
   ],
   "source": [
    "#Question8\n",
    "#Use the string formatting method to display the following:\n",
    "radius = 10\n",
    "area = 3.14 * radius ** 2\n",
    "#“The area of a circle with radius 10 is 314 meters square.”\n",
    "\n",
    "print('The area of a circle with radius %d is %i meters square.' %(radius, area))"
   ]
  },
  {
   "cell_type": "code",
   "execution_count": 11,
   "id": "b6f63eb6",
   "metadata": {},
   "outputs": [
    {
     "name": "stdout",
     "output_type": "stream",
     "text": [
      "Enter no of students 3\n",
      "enter weight of 0 89\n",
      "enter weight of 1 90\n",
      "enter weight of 2 91\n",
      "weights in Lb [89, 90, 91]\n",
      "weights in Kg [40.37, 40.82, 41.28]\n"
     ]
    }
   ],
   "source": [
    "#Question9\n",
    "#Write a program, which reads weights (lbs.) of N students into a list and convert these weights to\n",
    "#kilograms in a separate list using Loop. N: No of students (Read input from user)\n",
    "#Ex: L1: [150, 155, 145, 148]\n",
    "#Output: [68.03, 70.3, 65.77, 67.13]\n",
    "\n",
    "no_students=int(input(\"Enter no of students \")) #reading input from the user \n",
    "#creating empty list \n",
    "weights_in_lbs=[]\n",
    "weights_in_kg=[] \n",
    "for student in range(no_students):\n",
    "    weights_in_lbs.append(int(input(\"enter weight of \"+str(student)+\" \"))) #reading user input and appending to the List \n",
    "    weights_in_kg.append(round (weights_in_lbs [student]*0.453592,2))  #using mathmaticle operators coverting Lbs to kg \n",
    "print(\"weights in Lb\",weights_in_lbs) \n",
    "print(\"weights in Kg\",weights_in_kg)"
   ]
  },
  {
   "cell_type": "code",
   "execution_count": null,
   "id": "e216b141",
   "metadata": {},
   "outputs": [],
   "source": [
    "# Import necessary modules\n",
    "import numpy as np\n",
    "import seaborn as sns\n",
    "import matplotlib.pyplot as plt\n",
    "from sklearn.model_selection import train_test_split\n",
    "from sklearn.neighbors import KNeighborsClassifier\n",
    "from sklearn.metrics import confusion_matrix, classification_report\n",
    "\n",
    "#taking data\n",
    "X = np.array([1,2,3,6,6,7,10,11]).reshape(-1,1)\n",
    "y = [0,0,1,1,1,0,0,0]\n",
    "\n",
    "# Split into training and test set\n",
    "X_train, X_test, y_train, y_test = train_test_split(X, y, test_size = 0.25, random_state=26)\n",
    "\n",
    "#knn classification\n",
    "knnClassifier = KNeighborsClassifier(n_neighbors = 3)\n",
    "knnClassifier.fit(X_train, y_train)\n",
    "y_pred = knnClassifier.predict(X_test)\n",
    "\n",
    "#print score\n",
    "print(knnClassifier.score(X_test, y_test))\n",
    "\n",
    "#plotting confusion matrix\n",
    "cm = confusion_matrix(y_test, y_pred)\n",
    "ax = plt.subplot()\n",
    "sns.heatmap(cm, annot = True, fmt = 'g', ax= ax); #annot = True to annotate cells, ftm ='g' to disable scientific notation\n",
    "\n",
    "#labels, title and ticks\n",
    "ax.set_xlabel('Predicted labels');ax.set_ylabel('True labels');\n",
    "ax.set_title('Confusion Matrix'); \n",
    "ax.xaxis.set_ticklabels(['0', 'X']); ax.yaxis.set_ticklabels (['0', 'x']);\n",
    "\n",
    "tn, fp, fn, tp = cm.ravel()\n",
    "print(\"accuracy: \", (tp+tn)/(tp+fp+tn+fn))\n",
    "print(\"sensitivity: \", tp/(tp+fn))\n",
    "print(\"specificity: \", tn/(tn+fp))\n",
    "print(classification_report (y_test, y_pred, target_names=['0', 'x']))"
   ]
  }
 ],
 "metadata": {
  "kernelspec": {
   "display_name": "Python 3 (ipykernel)",
   "language": "python",
   "name": "python3"
  },
  "language_info": {
   "codemirror_mode": {
    "name": "ipython",
    "version": 3
   },
   "file_extension": ".py",
   "mimetype": "text/x-python",
   "name": "python",
   "nbconvert_exporter": "python",
   "pygments_lexer": "ipython3",
   "version": "3.11.1"
  }
 },
 "nbformat": 4,
 "nbformat_minor": 5
}
